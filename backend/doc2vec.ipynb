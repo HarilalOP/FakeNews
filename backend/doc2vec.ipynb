{
 "cells": [
  {
   "cell_type": "code",
   "execution_count": 71,
   "metadata": {},
   "outputs": [],
   "source": [
    "import numpy as np\n",
    "import scipy as sps\n",
    "import pandas as pd\n",
    "from gensim import utils\n",
    "from gensim.models.doc2vec import LabeledSentence\n",
    "from gensim.models import Doc2Vec\n",
    "from gensim.models.doc2vec import TaggedDocument"
   ]
  },
  {
   "cell_type": "code",
   "execution_count": 77,
   "metadata": {},
   "outputs": [
    {
     "name": "stderr",
     "output_type": "stream",
     "text": [
      "/Users/massimo/anaconda/envs/tensorflow/lib/python3.6/site-packages/IPython/core/interactiveshell.py:2785: DtypeWarning: Columns (6) have mixed types. Specify dtype option on import or set low_memory=False.\n",
      "  interactivity=interactivity, compiler=compiler, result=result)\n"
     ]
    }
   ],
   "source": [
    "data = pd.read_csv(\"dataset/csv_dataset_with_locations.txt\", sep=\"|\")"
   ]
  },
  {
   "cell_type": "code",
   "execution_count": 16,
   "metadata": {},
   "outputs": [
    {
     "data": {
      "text/html": [
       "<div>\n",
       "<style scoped>\n",
       "    .dataframe tbody tr th:only-of-type {\n",
       "        vertical-align: middle;\n",
       "    }\n",
       "\n",
       "    .dataframe tbody tr th {\n",
       "        vertical-align: top;\n",
       "    }\n",
       "\n",
       "    .dataframe thead th {\n",
       "        text-align: right;\n",
       "    }\n",
       "</style>\n",
       "<table border=\"1\" class=\"dataframe\">\n",
       "  <thead>\n",
       "    <tr style=\"text-align: right;\">\n",
       "      <th></th>\n",
       "      <th>id</th>\n",
       "      <th>full_text</th>\n",
       "      <th>formatted_text</th>\n",
       "      <th>event_id</th>\n",
       "      <th>created_at</th>\n",
       "      <th>user_id</th>\n",
       "      <th>in_reply_to_status_id</th>\n",
       "      <th>hash_tags</th>\n",
       "      <th>user_mentions</th>\n",
       "      <th>retweet_count</th>\n",
       "      <th>favorite_count</th>\n",
       "      <th>possibly_sensitive</th>\n",
       "      <th>place_name</th>\n",
       "      <th>place_type</th>\n",
       "      <th>country_code</th>\n",
       "      <th>coordinates</th>\n",
       "      <th>is_fake</th>\n",
       "    </tr>\n",
       "  </thead>\n",
       "  <tbody>\n",
       "    <tr>\n",
       "      <th>0</th>\n",
       "      <td>615868085090676737</td>\n",
       "      <td>Walmart bakes ISIS cake, rejects Confederate f...</td>\n",
       "      <td>Walmart bakes ISIS cake, rejects Confederate f...</td>\n",
       "      <td>E695</td>\n",
       "      <td>Tue Jun 30 13:02:48 +0000 2015</td>\n",
       "      <td>1.643046e+09</td>\n",
       "      <td>NaN</td>\n",
       "      <td>NaN</td>\n",
       "      <td>NaN</td>\n",
       "      <td>0</td>\n",
       "      <td>0</td>\n",
       "      <td>False</td>\n",
       "      <td>NaN</td>\n",
       "      <td>NaN</td>\n",
       "      <td>NaN</td>\n",
       "      <td>NaN</td>\n",
       "      <td>0.0</td>\n",
       "    </tr>\n",
       "    <tr>\n",
       "      <th>1</th>\n",
       "      <td>14619605813</td>\n",
       "      <td>UK bans doctor who linked autism to vaccine: B...</td>\n",
       "      <td>UK bans doctor who linked autism to vaccine: B...</td>\n",
       "      <td>TM859</td>\n",
       "      <td>Mon May 24 12:23:36 +0000 2010</td>\n",
       "      <td>1.247795e+08</td>\n",
       "      <td>NaN</td>\n",
       "      <td>NaN</td>\n",
       "      <td>NaN</td>\n",
       "      <td>0</td>\n",
       "      <td>0</td>\n",
       "      <td>False</td>\n",
       "      <td>NaN</td>\n",
       "      <td>NaN</td>\n",
       "      <td>NaN</td>\n",
       "      <td>NaN</td>\n",
       "      <td>0.0</td>\n",
       "    </tr>\n",
       "    <tr>\n",
       "      <th>2</th>\n",
       "      <td>644875384622829568</td>\n",
       "      <td>Doritos unveils rainbow chips to support LGBT ...</td>\n",
       "      <td>Doritos unveils rainbow chips to support LGBT ...</td>\n",
       "      <td>E391</td>\n",
       "      <td>Fri Sep 18 14:07:27 +0000 2015</td>\n",
       "      <td>2.297099e+07</td>\n",
       "      <td>NaN</td>\n",
       "      <td>NaN</td>\n",
       "      <td>NaN</td>\n",
       "      <td>3</td>\n",
       "      <td>6</td>\n",
       "      <td>False</td>\n",
       "      <td>NaN</td>\n",
       "      <td>NaN</td>\n",
       "      <td>NaN</td>\n",
       "      <td>NaN</td>\n",
       "      <td>0.0</td>\n",
       "    </tr>\n",
       "    <tr>\n",
       "      <th>3</th>\n",
       "      <td>647483888684498944</td>\n",
       "      <td>Mike Huckabee Is Having A Meltdown About Those...</td>\n",
       "      <td>Mike Huckabee Is Having A Meltdown About Those...</td>\n",
       "      <td>E391</td>\n",
       "      <td>Fri Sep 25 18:52:43 +0000 2015</td>\n",
       "      <td>1.179711e+09</td>\n",
       "      <td>NaN</td>\n",
       "      <td>NaN</td>\n",
       "      <td>NaN</td>\n",
       "      <td>1</td>\n",
       "      <td>0</td>\n",
       "      <td>False</td>\n",
       "      <td>NaN</td>\n",
       "      <td>NaN</td>\n",
       "      <td>NaN</td>\n",
       "      <td>NaN</td>\n",
       "      <td>0.0</td>\n",
       "    </tr>\n",
       "    <tr>\n",
       "      <th>4</th>\n",
       "      <td>608681780812652544</td>\n",
       "      <td>The only good news about the McKinney pool par...</td>\n",
       "      <td>The only good news about the McKinney pool par...</td>\n",
       "      <td>E768</td>\n",
       "      <td>Wed Jun 10 17:06:59 +0000 2015</td>\n",
       "      <td>2.234826e+09</td>\n",
       "      <td>NaN</td>\n",
       "      <td>NaN</td>\n",
       "      <td>2347049341</td>\n",
       "      <td>0</td>\n",
       "      <td>0</td>\n",
       "      <td>False</td>\n",
       "      <td>NaN</td>\n",
       "      <td>NaN</td>\n",
       "      <td>NaN</td>\n",
       "      <td>NaN</td>\n",
       "      <td>0.0</td>\n",
       "    </tr>\n",
       "  </tbody>\n",
       "</table>\n",
       "</div>"
      ],
      "text/plain": [
       "                   id                                          full_text  \\\n",
       "0  615868085090676737  Walmart bakes ISIS cake, rejects Confederate f...   \n",
       "1         14619605813  UK bans doctor who linked autism to vaccine: B...   \n",
       "2  644875384622829568  Doritos unveils rainbow chips to support LGBT ...   \n",
       "3  647483888684498944  Mike Huckabee Is Having A Meltdown About Those...   \n",
       "4  608681780812652544  The only good news about the McKinney pool par...   \n",
       "\n",
       "                                      formatted_text event_id  \\\n",
       "0  Walmart bakes ISIS cake, rejects Confederate f...     E695   \n",
       "1  UK bans doctor who linked autism to vaccine: B...    TM859   \n",
       "2  Doritos unveils rainbow chips to support LGBT ...     E391   \n",
       "3  Mike Huckabee Is Having A Meltdown About Those...     E391   \n",
       "4  The only good news about the McKinney pool par...     E768   \n",
       "\n",
       "                       created_at       user_id in_reply_to_status_id  \\\n",
       "0  Tue Jun 30 13:02:48 +0000 2015  1.643046e+09                   NaN   \n",
       "1  Mon May 24 12:23:36 +0000 2010  1.247795e+08                   NaN   \n",
       "2  Fri Sep 18 14:07:27 +0000 2015  2.297099e+07                   NaN   \n",
       "3  Fri Sep 25 18:52:43 +0000 2015  1.179711e+09                   NaN   \n",
       "4  Wed Jun 10 17:06:59 +0000 2015  2.234826e+09                   NaN   \n",
       "\n",
       "  hash_tags user_mentions  retweet_count favorite_count possibly_sensitive  \\\n",
       "0       NaN           NaN              0              0              False   \n",
       "1       NaN           NaN              0              0              False   \n",
       "2       NaN           NaN              3              6              False   \n",
       "3       NaN           NaN              1              0              False   \n",
       "4       NaN    2347049341              0              0              False   \n",
       "\n",
       "  place_name place_type country_code coordinates  is_fake  \n",
       "0        NaN        NaN          NaN         NaN      0.0  \n",
       "1        NaN        NaN          NaN         NaN      0.0  \n",
       "2        NaN        NaN          NaN         NaN      0.0  \n",
       "3        NaN        NaN          NaN         NaN      0.0  \n",
       "4        NaN        NaN          NaN         NaN      0.0  "
      ]
     },
     "execution_count": 16,
     "metadata": {},
     "output_type": "execute_result"
    }
   ],
   "source": [
    "data.head()"
   ]
  },
  {
   "cell_type": "code",
   "execution_count": 53,
   "metadata": {},
   "outputs": [
    {
     "data": {
      "text/plain": [
       "id                                                             21999278523\n",
       "full_text                http://itanil.com/2010/08/24/tiger-woods-and-w...\n",
       "formatted_text                                                         NaN\n",
       "event_id                                                            TM2525\n",
       "created_at                                  Tue Aug 24 13:09:34 +0000 2010\n",
       "user_id                                                        6.17129e+07\n",
       "in_reply_to_status_id                                                  NaN\n",
       "hash_tags                                                              NaN\n",
       "user_mentions                                                          NaN\n",
       "retweet_count                                                            0\n",
       "favorite_count                                                           0\n",
       "possibly_sensitive                                                   False\n",
       "place_name                                                             NaN\n",
       "place_type                                                             NaN\n",
       "country_code                                                           NaN\n",
       "coordinates                                                            NaN\n",
       "is_fake                                                                  0\n",
       "Name: 1880, dtype: object"
      ]
     },
     "execution_count": 53,
     "metadata": {},
     "output_type": "execute_result"
    }
   ],
   "source": [
    "data.iloc[1880]"
   ]
  },
  {
   "cell_type": "code",
   "execution_count": null,
   "metadata": {},
   "outputs": [],
   "source": []
  },
  {
   "cell_type": "code",
   "execution_count": 78,
   "metadata": {},
   "outputs": [],
   "source": [
    "txt = data[\"formatted_text\"].values\n",
    "\n",
    "txt[pd.isnull(txt)] = \"\" # remove NaN\n",
    "\n",
    "from string import punctuation\n",
    "def clean_text(arr_text):\n",
    "    for i in range(len(arr_text)):\n",
    "        tweet = arr_text[i]\n",
    "        tweet = tweet.lower()\n",
    "        tweet = tweet.translate(str.maketrans('', '', punctuation))\n",
    "        arr_text[i] = tweet\n",
    "        \n",
    "clean_text(txt)"
   ]
  },
  {
   "cell_type": "code",
   "execution_count": 79,
   "metadata": {},
   "outputs": [],
   "source": [
    "labels = list(range(len(txt)))"
   ]
  },
  {
   "cell_type": "code",
   "execution_count": 80,
   "metadata": {},
   "outputs": [],
   "source": [
    "source = []\n",
    "for i in range(len(txt)):\n",
    "    source+=[TaggedDocument(words=txt[i].split(), tags=[labels[i]])]"
   ]
  },
  {
   "cell_type": "code",
   "execution_count": 81,
   "metadata": {},
   "outputs": [],
   "source": [
    "model = Doc2Vec(min_count=0, window=10, alpha=0.025, vector_size=30, sample=1e-6, negative=3, workers=8) # vector_size: max 100\n",
    "model.build_vocab(source)\n",
    "#model = Doc2Vec(documents, size=100, window=8, min_count=5, workers=4)\n",
    "#model = gensim.models.Doc2Vec(documents, dm = 0, , size= 20, min_alpha=0.025, min_count=0)\n"
   ]
  },
  {
   "cell_type": "code",
   "execution_count": 83,
   "metadata": {},
   "outputs": [],
   "source": [
    "model.train(source, total_examples=len(source), epochs=20)"
   ]
  },
  {
   "cell_type": "code",
   "execution_count": 86,
   "metadata": {},
   "outputs": [
    {
     "name": "stderr",
     "output_type": "stream",
     "text": [
      "/Users/massimo/anaconda/envs/tensorflow/lib/python3.6/site-packages/ipykernel/__main__.py:1: DeprecationWarning: Call to deprecated `most_similar` (Method will be removed in 4.0.0, use self.wv.most_similar() instead).\n",
      "  if __name__ == '__main__':\n"
     ]
    },
    {
     "data": {
      "text/plain": [
       "[('autism', 0.9785845875740051),\n",
       " ('linking', 0.9741197228431702),\n",
       " ('linked', 0.9725444316864014),\n",
       " ('vaccine', 0.9695267081260681),\n",
       " ('britains', 0.9593044519424438),\n",
       " ('quakercarecom', 0.946308970451355),\n",
       " ('britain', 0.9282881021499634),\n",
       " ('persuaded', 0.9022834897041321),\n",
       " ('bans', 0.8638392090797424),\n",
       " ('meas', 0.8567782044410706)]"
      ]
     },
     "execution_count": 86,
     "metadata": {},
     "output_type": "execute_result"
    }
   ],
   "source": [
    "model.most_similar('doctor')"
   ]
  },
  {
   "cell_type": "code",
   "execution_count": 90,
   "metadata": {},
   "outputs": [
    {
     "name": "stderr",
     "output_type": "stream",
     "text": [
      "/Users/massimo/anaconda/envs/tensorflow/lib/python3.6/site-packages/ipykernel/__main__.py:1: DeprecationWarning: Call to deprecated `most_similar` (Method will be removed in 4.0.0, use self.wv.most_similar() instead).\n",
      "  if __name__ == '__main__':\n"
     ]
    },
    {
     "data": {
      "text/plain": [
       "[('middle', 0.966205894947052),\n",
       " ('tennessee', 0.961780309677124),\n",
       " ('ntb', 0.9563257694244385),\n",
       " ('god”', 0.9502483606338501),\n",
       " ('nonmuslim', 0.9439868330955505),\n",
       " ('forcing', 0.9377407431602478),\n",
       " ('districts', 0.9294548034667969),\n",
       " ('praise', 0.9278393983840942),\n",
       " ('lessons', 0.9224681258201599),\n",
       " ('comply', 0.9197720289230347)]"
      ]
     },
     "execution_count": 90,
     "metadata": {},
     "output_type": "execute_result"
    }
   ],
   "source": [
    "model.most_similar('islam')"
   ]
  },
  {
   "cell_type": "code",
   "execution_count": 91,
   "metadata": {},
   "outputs": [],
   "source": [
    "model.save('./model_doc2vec.d2v')"
   ]
  },
  {
   "cell_type": "code",
   "execution_count": 93,
   "metadata": {},
   "outputs": [],
   "source": [
    "#model = Doc2Vec.load('./model_doc2vec.d2v')"
   ]
  },
  {
   "cell_type": "code",
   "execution_count": null,
   "metadata": {},
   "outputs": [],
   "source": []
  }
 ],
 "metadata": {
  "kernelspec": {
   "display_name": "Python [conda env:tensorflow]",
   "language": "python",
   "name": "conda-env-tensorflow-py"
  },
  "language_info": {
   "codemirror_mode": {
    "name": "ipython",
    "version": 3
   },
   "file_extension": ".py",
   "mimetype": "text/x-python",
   "name": "python",
   "nbconvert_exporter": "python",
   "pygments_lexer": "ipython3",
   "version": "3.6.4"
  }
 },
 "nbformat": 4,
 "nbformat_minor": 2
}
